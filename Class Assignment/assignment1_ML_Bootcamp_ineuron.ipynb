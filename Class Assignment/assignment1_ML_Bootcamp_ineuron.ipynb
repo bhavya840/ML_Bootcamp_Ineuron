{
  "nbformat": 4,
  "nbformat_minor": 0,
  "metadata": {
    "colab": {
      "provenance": []
    },
    "kernelspec": {
      "name": "python3",
      "display_name": "Python 3"
    },
    "language_info": {
      "name": "python"
    }
  },
  "cells": [
    {
      "cell_type": "markdown",
      "source": [
        "#WAP to accept two numbers from the user and display their sum\n"
      ],
      "metadata": {
        "id": "5TWS0LZQl6KT"
      }
    },
    {
      "cell_type": "code",
      "source": [
        "a = int(input(\"Enter First Number : \"))\n",
        "b = int(input(\"Enter Second Number : \"))\n",
        "c = a + b\n",
        "print(c)"
      ],
      "metadata": {
        "colab": {
          "base_uri": "https://localhost:8080/"
        },
        "id": "fuec885xmA8e",
        "outputId": "9e767d83-2507-4973-c64d-b5ee614f8764"
      },
      "execution_count": 1,
      "outputs": [
        {
          "output_type": "stream",
          "name": "stdout",
          "text": [
            "Enter First Number : 5\n",
            "Enter Second Number : 2\n",
            "7\n"
          ]
        }
      ]
    },
    {
      "cell_type": "markdown",
      "source": [
        "#WAP to accept radius of a Circle from the user and calculate area and circumference"
      ],
      "metadata": {
        "id": "OZQhZBCbmkhT"
      }
    },
    {
      "cell_type": "code",
      "source": [
        "a = float(input(\"Enter the radius of the circle : \"))\n",
        "area = 3.14*a*a\n",
        "cf = 2*3.14*a\n",
        "print(\"The Area of the Circle is \",area)\n",
        "print(\"The Circumference of the Circle is \",cf)"
      ],
      "metadata": {
        "colab": {
          "base_uri": "https://localhost:8080/"
        },
        "id": "UoAj3k1tmy8c",
        "outputId": "d1e3a971-3338-4a1b-ddcf-13d6e1bd509f"
      },
      "execution_count": 4,
      "outputs": [
        {
          "output_type": "stream",
          "name": "stdout",
          "text": [
            "Enter the radius of the circle : 5\n",
            "The Area of the Circle is  78.5\n",
            "The Circumference of the Circle is  31.400000000000002\n"
          ]
        }
      ]
    },
    {
      "cell_type": "markdown",
      "source": [
        "#WAP to accept roll number , grade and percentage as input from the user and display it back"
      ],
      "metadata": {
        "id": "quuPNmiEoHhL"
      }
    },
    {
      "cell_type": "code",
      "source": [
        "a = int(input(\"Enter Roll Number : \"))\n",
        "b = input(\"Enter Grade : \")\n",
        "c = float(input(\"Enter Percentage : \"))\n",
        "print(\"The Roll Number is \",a)\n",
        "print(\"The Grade is \",b)\n",
        "print(\"The Percentage is \",c)"
      ],
      "metadata": {
        "colab": {
          "base_uri": "https://localhost:8080/"
        },
        "id": "1y_vfAz4oVW6",
        "outputId": "f8cd4e71-ccfc-426f-cf6c-59c6ce0eee3b"
      },
      "execution_count": 7,
      "outputs": [
        {
          "output_type": "stream",
          "name": "stdout",
          "text": [
            "Enter Roll Number : 45\n",
            "Enter Grade : A\n",
            "Enter Percentage : 90.45\n",
            "The Roll Number is  45\n",
            "The Grade is  A\n",
            "The Percentage is  90.45\n"
          ]
        }
      ]
    },
    {
      "cell_type": "markdown",
      "source": [
        "#Write a program that asks the user to enter his/her name and age. Print out a message , displaying the user’s name along with the year in which they will turn 100 years old."
      ],
      "metadata": {
        "id": "PrEAMv9VpbAC"
      }
    },
    {
      "cell_type": "code",
      "source": [
        "name = input(\"Enter your name: \")\n",
        "ca = int(input(\"Enter your age: \"))\n",
        "hundredth_year = 2022 + (100 - ca)\n",
        "print(f'{name} will become 100 years old in the year {hundredth_year}.')"
      ],
      "metadata": {
        "colab": {
          "base_uri": "https://localhost:8080/"
        },
        "id": "qOfjwkSoppHJ",
        "outputId": "70ef02bc-724d-4a5e-e8d8-b54fc8b0a94f"
      },
      "execution_count": 11,
      "outputs": [
        {
          "output_type": "stream",
          "name": "stdout",
          "text": [
            "Enter your name: Bhavya\n",
            "Enter your age: 24\n",
            "Bhavya will become 100 years old in the year 2098.\n"
          ]
        }
      ]
    },
    {
      "cell_type": "markdown",
      "source": [
        "#Write a program that asks the user to input 2 integers and adds them . Accept both the numbers in a single line only"
      ],
      "metadata": {
        "id": "LgwEC3IsqfG7"
      }
    },
    {
      "cell_type": "code",
      "source": [
        "print(\"Input the value of a & b with a space\")\n",
        "a, b = map(int, input().split())\n",
        "c = a + b\n",
        "print(c)\n"
      ],
      "metadata": {
        "colab": {
          "base_uri": "https://localhost:8080/"
        },
        "id": "H8kcJn00rirk",
        "outputId": "b3fd4fd6-95f3-430e-c668-003c8d8c472c"
      },
      "execution_count": 13,
      "outputs": [
        {
          "output_type": "stream",
          "name": "stdout",
          "text": [
            "Input the value of a & b with a space\n",
            "5 6\n",
            "11\n"
          ]
        }
      ]
    },
    {
      "cell_type": "markdown",
      "source": [
        "#Write a Python program which accepts the user's first and last name and print them in reverse order with a space between them."
      ],
      "metadata": {
        "id": "Ejr4Awm3r-mr"
      }
    },
    {
      "cell_type": "code",
      "source": [
        "f_name = input(\"Input your First Name : \")\n",
        "l_name = input(\"Input your Last Name : \")\n",
        "print (\"Hi S\" + l_name + \" \" + f_name)"
      ],
      "metadata": {
        "colab": {
          "base_uri": "https://localhost:8080/"
        },
        "id": "xQjVpwf2sAWc",
        "outputId": "636a3916-a3b5-40b4-c36c-accfd7cc4c90"
      },
      "execution_count": 17,
      "outputs": [
        {
          "output_type": "stream",
          "name": "stdout",
          "text": [
            "Input your First Name : Bhavya\n",
            "Input your Last Name : Sheth\n",
            "Hi Sheth Bhavya\n"
          ]
        }
      ]
    }
  ]
}
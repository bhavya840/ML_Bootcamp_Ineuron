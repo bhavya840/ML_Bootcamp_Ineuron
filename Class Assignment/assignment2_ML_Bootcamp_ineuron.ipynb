{
  "nbformat": 4,
  "nbformat_minor": 0,
  "metadata": {
    "colab": {
      "provenance": []
    },
    "kernelspec": {
      "name": "python3",
      "display_name": "Python 3"
    },
    "language_info": {
      "name": "python"
    }
  },
  "cells": [
    {
      "cell_type": "markdown",
      "source": [
        "#WAP to accept an integer from the user and check whether it is an even or odd \n"
      ],
      "metadata": {
        "id": "oF0uumdGxB5m"
      }
    },
    {
      "cell_type": "code",
      "execution_count": 12,
      "metadata": {
        "id": "79c7b11b-669b-452c-9aa5-1fb32a66937b",
        "outputId": "fd216b40-16d2-4af8-f26f-51129a9179a5",
        "colab": {
          "base_uri": "https://localhost:8080/"
        }
      },
      "outputs": [
        {
          "output_type": "stream",
          "name": "stdout",
          "text": [
            "please enter any number 7\n",
            "number is Odd\n"
          ]
        }
      ],
      "source": [
        "a= int(input(\"please enter any number \"))\n",
        "if a%2==0:\n",
        "    print(\"number is even\")\n",
        "else:\n",
        "    print(\"number is Odd\")\n"
      ]
    },
    {
      "cell_type": "markdown",
      "source": [
        "#WAP to accept a character from the user and check whether it is a capital letter or small letter. Assume user will input only alphabets"
      ],
      "metadata": {
        "id": "sTc25YSD1j7c"
      }
    },
    {
      "cell_type": "code",
      "source": [
        "ch = (input(\"Enter an alphabet : \"))\n",
        "if ch >= 'A' and ch <= 'Z':\n",
        "\t\tprint(ch,\"is an UpperCase character\");\n",
        "\n",
        "elif ch >= 'a' and ch <= 'z':\n",
        "\t\tprint(ch,\"is an LowerCase character\");\n",
        "else:\n",
        "\t\tprint(ch,\"is not an aplhabetic character\");"
      ],
      "metadata": {
        "colab": {
          "base_uri": "https://localhost:8080/"
        },
        "id": "O2hnKidO1nor",
        "outputId": "d880d0fe-7261-4918-a0b8-dbf8f2e877ae"
      },
      "execution_count": 14,
      "outputs": [
        {
          "output_type": "stream",
          "name": "stdout",
          "text": [
            "Enter an alphabet : A\n",
            "A is an UpperCase character\n"
          ]
        }
      ]
    },
    {
      "cell_type": "markdown",
      "source": [
        "#WAP to accept a character from the user and check whether it is a capital letter or small letter or a digit or some special symbol"
      ],
      "metadata": {
        "id": "k3VJ6Dka2og0"
      }
    },
    {
      "cell_type": "code",
      "source": [
        "ch = (input(\"Enter an alphabet : \"))\n",
        "if ch >= 'A' and ch <= 'Z':\n",
        "\t\tprint(ch,\"is an UpperCase character\");\n",
        "\n",
        "elif ch >= 'a' and ch <= 'z':\n",
        "\t\tprint(ch,\"is an LowerCase character\");\n",
        "elif ch >= '0' and ch <= '9':\n",
        "\t\tprint(ch,\"is a digit\");\n",
        "else:\n",
        "\t\tprint(ch,\"is a special character\");"
      ],
      "metadata": {
        "colab": {
          "base_uri": "https://localhost:8080/"
        },
        "outputId": "64198f91-5916-4611-96d6-35046a9ea6a2",
        "id": "CpHG6AGs3VoW"
      },
      "execution_count": 17,
      "outputs": [
        {
          "output_type": "stream",
          "name": "stdout",
          "text": [
            "Enter an alphabet : A\n",
            "A is an UpperCase character\n"
          ]
        }
      ]
    },
    {
      "cell_type": "markdown",
      "source": [
        "#WAP to accept 3 integers from the user and without using any logical operator and cascading of relational operators , find out the greatest number amongst them\n"
      ],
      "metadata": {
        "id": "Y40j6QmU4EWS"
      }
    },
    {
      "cell_type": "code",
      "execution_count": 19,
      "metadata": {
        "id": "5a8c7649-5429-439a-875c-1c860f73a0bf"
      },
      "outputs": [],
      "source": [
        "def max(a, b, c):\n",
        "  \n",
        "    if (a >= b) and (a >= c):\n",
        "        largest = a\n",
        "  \n",
        "    elif (b >= a) and (b >= c):\n",
        "        largest = b\n",
        "    else:\n",
        "        largest = c\n",
        "          \n",
        "    return largest"
      ]
    },
    {
      "cell_type": "code",
      "source": [
        "max(-5,-9,-10)"
      ],
      "metadata": {
        "colab": {
          "base_uri": "https://localhost:8080/"
        },
        "id": "9iQLQdt14eHF",
        "outputId": "06a526fb-8d4a-4b3b-99cc-39d97cf2034a"
      },
      "execution_count": 21,
      "outputs": [
        {
          "output_type": "execute_result",
          "data": {
            "text/plain": [
              "-5"
            ]
          },
          "metadata": {},
          "execution_count": 21
        }
      ]
    }
  ]
}
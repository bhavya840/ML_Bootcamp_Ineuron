{
  "nbformat": 4,
  "nbformat_minor": 0,
  "metadata": {
    "colab": {
      "provenance": []
    },
    "kernelspec": {
      "name": "python3",
      "display_name": "Python 3"
    },
    "language_info": {
      "name": "python"
    }
  },
  "cells": [
    {
      "cell_type": "markdown",
      "source": [
        "#1. In the below elements which of them are values or an expression? eg:- values can be integer or string and expressions will be mathematical operators.\n",
        "*\n",
        "&#39;hello&#39;\n",
        "-87.8\n",
        "-\n",
        "/\n",
        "+\n",
        "6"
      ],
      "metadata": {
        "id": "c_zeOdGTT3yQ"
      }
    },
    {
      "cell_type": "markdown",
      "source": [
        "Values : 'hello', -87.8, 6\n",
        "\n",
        "Expressions : *, -, /, +"
      ],
      "metadata": {
        "id": "YYABZJAhbC52"
      }
    },
    {
      "cell_type": "markdown",
      "source": [
        "#2. What is the difference between string and variable?"
      ],
      "metadata": {
        "id": "SCIgxAk1VF_o"
      }
    },
    {
      "cell_type": "markdown",
      "source": [
        "Variables are symbols that you can use to store data in a program and Strings are data used to fill up a variable."
      ],
      "metadata": {
        "id": "PWLHMP75bAp_"
      }
    },
    {
      "cell_type": "markdown",
      "source": [
        "#3. Describe three different data types."
      ],
      "metadata": {
        "id": "cZg35fEFVe1H"
      }
    },
    {
      "cell_type": "markdown",
      "source": [
        "Numeric - In Python, numeric data type represent the data which has numeric value. Numeric value can be integer, floating number or even complex numbers. These values are defined as int, float and complex class in Python.\n",
        "\n",
        "    Integers – This value is represented by int class. It contains positive or negative whole numbers (without fraction or decimal). In Python there is no limit to how long an integer value can be.\n",
        "    Float – This value is represented by float class. It is a real number with floating point representation. It is specified by a decimal point. Optionally, the character e or E followed by a positive or negative integer may be appended to specify scientific notation.\n",
        "    Complex Numbers – Complex number is represented by complex class. It is specified as (real part) + (imaginary part)j. For example – 1+5j\n",
        "\n",
        "Boolean - Data type with one of the two built-in values, True or False. Boolean objects that are equal to True are truthy (true), and those equal to False are falsy (false). But non-Boolean objects can be evaluated in Boolean context as well and determined to be true or false. It is denoted by the class bool.\n",
        "\n",
        "Set - In Python, Set is an unordered collection of data type that is iterable, mutable and has no duplicate elements. The order of elements in a set is undefined though it may consist of various elements."
      ],
      "metadata": {
        "id": "-t0B0v4Ca2we"
      }
    },
    {
      "cell_type": "markdown",
      "source": [
        "#4. What is an expression made up of? What do all expressions do?"
      ],
      "metadata": {
        "id": "BB8EjZv7Z85n"
      }
    },
    {
      "cell_type": "markdown",
      "source": [
        "An expression is a combination of values, variables, operators, and calls to functions. Expressions need to be evaluated. If you ask Python to print an expression, the interpreter evaluates the expression and displays the result."
      ],
      "metadata": {
        "id": "fZyvsH9xawL3"
      }
    },
    {
      "cell_type": "markdown",
      "source": [
        "#5. This assignment statements, like spam = 10. What is the difference between an expression and a statement?"
      ],
      "metadata": {
        "id": "TKpAL-CwaQKu"
      }
    },
    {
      "cell_type": "markdown",
      "source": [
        "An expression evaluates to a single value. A statement does not."
      ],
      "metadata": {
        "id": "d9HlCuWSaaUG"
      }
    },
    {
      "cell_type": "markdown",
      "source": [
        "#After running the following code, what does the variable bacon contain?\n",
        "bacon = 22\n",
        "\n",
        "bacon + 1"
      ],
      "metadata": {
        "id": "WDi7_udAaraB"
      }
    },
    {
      "cell_type": "markdown",
      "source": [
        "23"
      ],
      "metadata": {
        "id": "vNy--ujIbX8O"
      }
    },
    {
      "cell_type": "markdown",
      "source": [
        "#7. What should the values of the following two terms be?\n",
        "&#39;spam&#39; + &#39;spamspam&#39;\n",
        "\n",
        "&#39;spam&#39; * 3"
      ],
      "metadata": {
        "id": "F-xIJ1J-bgru"
      }
    },
    {
      "cell_type": "markdown",
      "source": [
        "spamspamspam\n",
        "\n",
        "spamspamspam"
      ],
      "metadata": {
        "id": "iPF4ixm2b4Lu"
      }
    },
    {
      "cell_type": "markdown",
      "source": [
        "#8. Why is eggs a valid variable name while 100 is invalid?"
      ],
      "metadata": {
        "id": "nPvjCD92b5R2"
      }
    },
    {
      "cell_type": "markdown",
      "source": [
        "Cause Variable names cannot begin with a number."
      ],
      "metadata": {
        "id": "z-6qA7n7b-iG"
      }
    },
    {
      "cell_type": "markdown",
      "source": [
        "#9. What three functions can be used to get the integer, floating-point number, or string version of a value?"
      ],
      "metadata": {
        "id": "XYTU4WeDcG1m"
      }
    },
    {
      "cell_type": "markdown",
      "source": [
        "The int(), float(), and str() functions will evaluate to the integer, floating-point number, and string versions of the value passed to them."
      ],
      "metadata": {
        "id": "ZI2DU2DscL2-"
      }
    },
    {
      "cell_type": "markdown",
      "source": [
        "#10. Why does this expression cause an error? How can you fix it?\n",
        "&#39;I have eaten &#39; + 99 + &#39; burritos.&#39;\n"
      ],
      "metadata": {
        "id": "ejdQ1n90cbdn"
      }
    },
    {
      "cell_type": "markdown",
      "source": [
        "The expression causes an error because 99 is an integer, and only strings can be concatenated to other strings with the + operator. The correct way is I have eaten ' + str(99) + ' burritos.'."
      ],
      "metadata": {
        "id": "G5VG4rhnceEH"
      }
    }
  ]
}